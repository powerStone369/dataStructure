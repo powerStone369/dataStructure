{
 "cells": [
  {
   "cell_type": "code",
   "execution_count": 1,
   "source": [
    "class Fibonacci:\n",
    "    def __call__(self,n):\n",
    "        if n==0:\n",
    "            return 0\n",
    "\n",
    "        elif n==1:\n",
    "            return 1\n",
    "        \n",
    "        else:\n",
    "            return self(n-2) + self(n-1)\n",
    "            \n",
    "text = input (\"Number\")\n",
    "Number = int(text)\n",
    "\n",
    "if Number > 11 :\n",
    "    print(\"Please input less than 10\")\n",
    "\n",
    "else:\n",
    "    f = Fibonacci()\n",
    "    print(f(Number))"
   ],
   "outputs": [
    {
     "output_type": "stream",
     "name": "stdout",
     "text": [
      "34\n"
     ]
    }
   ],
   "metadata": {
    "scrolled": true
   }
  },
  {
   "cell_type": "code",
   "execution_count": null,
   "source": [],
   "outputs": [],
   "metadata": {
    "scrolled": true
   }
  },
  {
   "cell_type": "code",
   "execution_count": null,
   "source": [],
   "outputs": [],
   "metadata": {}
  },
  {
   "cell_type": "code",
   "execution_count": null,
   "source": [],
   "outputs": [],
   "metadata": {}
  }
 ],
 "metadata": {
  "kernelspec": {
   "name": "python3",
   "display_name": "Python 3.8.8 64-bit ('base': conda)"
  },
  "language_info": {
   "codemirror_mode": {
    "name": "ipython",
    "version": 3
   },
   "file_extension": ".py",
   "mimetype": "text/x-python",
   "name": "python",
   "nbconvert_exporter": "python",
   "pygments_lexer": "ipython3",
   "version": "3.8.8"
  },
  "interpreter": {
   "hash": "9fdced22d77102b5601c8f6ec647391a5080fbbd8dc561881d6412554a470c13"
  }
 },
 "nbformat": 4,
 "nbformat_minor": 5
}