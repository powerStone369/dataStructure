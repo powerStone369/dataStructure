{
 "cells": [
  {
   "cell_type": "code",
   "execution_count": 1,
   "metadata": {},
   "outputs": [],
   "source": [
    "from ArrayList import ArrayList\n",
    "from ArrayStack import ArrayStack\n",
    "from DoublyLinkedList import DoublyLinkedList\n",
    "from LinkedStack import LinkedStack\n",
    "import time\n"
   ]
  },
  {
   "cell_type": "code",
   "execution_count": 2,
   "metadata": {},
   "outputs": [],
   "source": [
    "### 1000개 원소 채우기###\n",
    "\n",
    "arrayList = ArrayList()\n",
    "arrayStack = ArrayStack()\n",
    "doublyLinkedList = DoublyLinkedList()\n",
    "linkedStack = LinkedStack()\n",
    "\n",
    "for i in range(1000):\n",
    "    arrayList.append(0)\n",
    "\n",
    "for i in range(1000):\n",
    "    arrayStack.push(0)\n",
    "\n",
    "for i in range(1000):\n",
    "   doublyLinkedList.insert(i,0)\n",
    "\n",
    "for i in range(1000):\n",
    "    linkedStack.push(0)\n"
   ]
  },
  {
   "cell_type": "code",
   "execution_count": 3,
   "metadata": {},
   "outputs": [
    {
     "name": "stdout",
     "output_type": "stream",
     "text": [
      "ArrayList:  999600 0\n",
      "ArrayStack:  0 0\n",
      "DoublyLinkedList:  0 0\n",
      "LinkedStack:  0 0\n"
     ]
    }
   ],
   "source": [
    "########### 시간측정 #############\n",
    "# ArrayList\n",
    "\n",
    "startTime = time.time_ns()\n",
    "arrayList.insert(0,0)\n",
    "endTime = time.time_ns()\n",
    "requiredT = endTime - startTime\n",
    "\n",
    "startTime = time.time_ns()\n",
    "arrayList.remove(0)\n",
    "endTime = time.time_ns()\n",
    "requiredT2 = endTime - startTime\n",
    "\n",
    "print(\"ArrayList: \", requiredT, requiredT2)\n",
    "\n",
    "# ArrayStack\n",
    "\n",
    "startTime = time.time_ns()\n",
    "arrayStack.push(0)\n",
    "endTime = time.time_ns()\n",
    "requiredT = endTime - startTime\n",
    "\n",
    "startTime = time.time_ns()\n",
    "arrayStack.pop()\n",
    "endTime = time.time_ns()\n",
    "requiredT2 = endTime - startTime\n",
    "\n",
    "print(\"ArrayStack: \", requiredT, requiredT2)\n",
    "\n",
    "# DoublyLinkedList\n",
    "\n",
    "startTime = time.time_ns()\n",
    "doublyLinkedList.insert(0,0)\n",
    "endTime = time.time_ns()\n",
    "requiredT = endTime - startTime\n",
    "\n",
    "startTime = time.time_ns()\n",
    "doublyLinkedList.delete(0)\n",
    "endTime = time.time_ns()\n",
    "requiredT2 = endTime - startTime\n",
    "\n",
    "print(\"DoublyLinkedList: \", requiredT, requiredT2)\n",
    "\n",
    "# LinkedStack\n",
    "\n",
    "startTime = time.time_ns()\n",
    "linkedStack.push(0)\n",
    "endTime = time.time_ns()\n",
    "requiredT = endTime - startTime\n",
    "\n",
    "startTime = time.time_ns()\n",
    "linkedStack.pop()\n",
    "endTime = time.time_ns()\n",
    "requiredT = endTime - startTime\n",
    "\n",
    "print(\"LinkedStack: \", requiredT, requiredT2)"
   ]
  },
  {
   "cell_type": "markdown",
   "metadata": {},
   "source": [
    "ArrayList 에 원소를 추가하고 뺄 때 유의미한 소요시간이 발생하고, 나머지의 경우에는 발생할 때도 있지만 그때 그때 컴퓨터 상황에 따라 달라지는 수준의 값일 뿐이다. 새로운 원소를 넣고 뺄 일이 빈번한 경우에는 ArrayList를 사용하는 것이 비효율적인 것을 알 수 있다."
   ]
  },
  {
   "cell_type": "code",
   "execution_count": 4,
   "metadata": {},
   "outputs": [],
   "source": [
    "### 10000개 원소 채우기 ###\n",
    "\n",
    "arrayList2 = ArrayList()\n",
    "arrayStack2 = ArrayStack()\n",
    "doublyLinkedList2 = DoublyLinkedList()\n",
    "linkedStack2 = LinkedStack()\n",
    "\n",
    "for i in range(10000):\n",
    "    arrayList2.append(0)\n",
    "\n",
    "for i in range(10000):\n",
    "    arrayStack2.push(0)\n",
    "\n",
    "for i in range(10000):\n",
    "   doublyLinkedList2.insert(i,0)\n",
    "\n",
    "for i in range(10000):\n",
    "    linkedStack2.push(0)\n"
   ]
  },
  {
   "cell_type": "code",
   "execution_count": 5,
   "metadata": {},
   "outputs": [
    {
     "name": "stdout",
     "output_type": "stream",
     "text": [
      "ArrayList:  7992800 4997300\n",
      "ArrayStack:  0 0\n",
      "DoublyLinkedList:  0 0\n",
      "LinkedStack:  0 0\n"
     ]
    }
   ],
   "source": [
    "########### 시간측정 #############\n",
    "# ArrayList\n",
    "\n",
    "startTime = time.time_ns()\n",
    "arrayList2.insert(0,0)\n",
    "endTime = time.time_ns()\n",
    "requiredT = endTime - startTime\n",
    "\n",
    "startTime = time.time_ns()\n",
    "arrayList2.remove(0)\n",
    "endTime = time.time_ns()\n",
    "requiredT2 = endTime - startTime\n",
    "\n",
    "print(\"ArrayList: \", requiredT, requiredT2)\n",
    "\n",
    "# ArrayStack\n",
    "\n",
    "startTime = time.time_ns()\n",
    "arrayStack2.push(0)\n",
    "endTime = time.time_ns()\n",
    "requiredT = endTime - startTime\n",
    "\n",
    "startTime = time.time_ns()\n",
    "arrayStack2.pop()\n",
    "endTime = time.time_ns()\n",
    "requiredT2 = endTime - startTime\n",
    "\n",
    "print(\"ArrayStack: \", requiredT, requiredT2)\n",
    "\n",
    "# DoublyLinkedList\n",
    "\n",
    "startTime = time.time_ns()\n",
    "doublyLinkedList2.insert(0,0)\n",
    "endTime = time.time_ns()\n",
    "requiredT = endTime - startTime\n",
    "\n",
    "startTime = time.time_ns()\n",
    "doublyLinkedList2.delete(0)\n",
    "endTime = time.time_ns()\n",
    "requiredT2 = endTime - startTime\n",
    "\n",
    "print(\"DoublyLinkedList: \", requiredT, requiredT2)\n",
    "\n",
    "# LinkedStack\n",
    "\n",
    "startTime = time.time_ns()\n",
    "linkedStack2.push(0)\n",
    "endTime = time.time_ns()\n",
    "requiredT = endTime - startTime\n",
    "\n",
    "startTime = time.time_ns()\n",
    "linkedStack2.pop()\n",
    "endTime = time.time_ns()\n",
    "requiredT = endTime - startTime\n",
    "\n",
    "print(\"LinkedStack: \", requiredT, requiredT2)"
   ]
  },
  {
   "cell_type": "markdown",
   "metadata": {},
   "source": [
    "배열의 크기가 커질수록 ArrayList에 원소를 넣고 빼는 데 소요되는 시간이 확실히 증가함을 알 수 있다. 반면 다른 자료구조들은 여전히 유의미한 소요 시간이 발생하지 않고 있다. singled Array list의 push 와 pop의 경우 배열의 끝단에서만 자료를 넣고 뺄 수 있기 때문에 배열 안의 데이터를 옮길 필요가 없어 시간 소요가 크지 않고, Linked list 의 경우에는 중간에 데이터를 삽입하더라도 데이터를 옮길 필요가 없기 때문에 시간 소요량이 크지 않다."
   ]
  },
  {
   "cell_type": "code",
   "execution_count": 6,
   "metadata": {},
   "outputs": [],
   "source": [
    "### 50000개 원소 채우기 ###\n",
    "\n",
    "arrayList3 = ArrayList()\n",
    "arrayStack3 = ArrayStack()\n",
    "doublyLinkedList3 = DoublyLinkedList()\n",
    "linkedStack3 = LinkedStack()\n",
    "\n",
    "for i in range(50000):\n",
    "    arrayList3.append(0)\n",
    "\n",
    "for i in range(50000):\n",
    "    arrayStack3.push(0)\n",
    "\n",
    "for i in range(50000):\n",
    "   doublyLinkedList3.insert(i,0)\n",
    "\n",
    "for i in range(50000):\n",
    "    linkedStack3.push(0)"
   ]
  },
  {
   "cell_type": "code",
   "execution_count": 9,
   "metadata": {},
   "outputs": [
    {
     "name": "stdout",
     "output_type": "stream",
     "text": [
      "ArrayList:  31979700 28981900\n",
      "ArrayStack:  0 0\n",
      "DoublyLinkedList:  0 0\n",
      "LinkedStack:  0 0\n"
     ]
    }
   ],
   "source": [
    "########### 시간측정 #############\n",
    "# ArrayList\n",
    "\n",
    "startTime = time.time_ns()\n",
    "arrayList3.insert(0,0)\n",
    "endTime = time.time_ns()\n",
    "requiredT = endTime - startTime\n",
    "\n",
    "startTime = time.time_ns()\n",
    "arrayList3.remove(0)\n",
    "endTime = time.time_ns()\n",
    "requiredT2 = endTime - startTime\n",
    "\n",
    "print(\"ArrayList: \", requiredT, requiredT2)\n",
    "\n",
    "# ArrayStack\n",
    "\n",
    "startTime = time.time_ns()\n",
    "arrayStack3.push(0)\n",
    "endTime = time.time_ns()\n",
    "requiredT = endTime - startTime\n",
    "\n",
    "startTime = time.time_ns()\n",
    "arrayStack3.pop()\n",
    "endTime = time.time_ns()\n",
    "requiredT2 = endTime - startTime\n",
    "\n",
    "print(\"ArrayStack: \", requiredT, requiredT2)\n",
    "\n",
    "# DoublyLinkedList\n",
    "\n",
    "startTime = time.time_ns()\n",
    "doublyLinkedList3.insert(0,0)\n",
    "endTime = time.time_ns()\n",
    "requiredT = endTime - startTime\n",
    "\n",
    "startTime = time.time_ns()\n",
    "doublyLinkedList3.delete(0)\n",
    "endTime = time.time_ns()\n",
    "requiredT2 = endTime - startTime\n",
    "\n",
    "print(\"DoublyLinkedList: \", requiredT, requiredT2)\n",
    "\n",
    "# LinkedStack\n",
    "\n",
    "startTime = time.time_ns()\n",
    "linkedStack3.push(0)\n",
    "endTime = time.time_ns()\n",
    "requiredT = endTime - startTime\n",
    "\n",
    "startTime = time.time_ns()\n",
    "linkedStack3.pop()\n",
    "endTime = time.time_ns()\n",
    "requiredT = endTime - startTime\n",
    "\n",
    "print(\"LinkedStack: \", requiredT, requiredT2)"
   ]
  },
  {
   "cell_type": "markdown",
   "metadata": {},
   "source": [
    "숫자가 더 커짐에 따라 ArrayList의 소요시간이 더 늘어났고, 다른 자료구조에도 종종 수치로 표현되는 경우가 있으나 그다지 유의미한 경우는 아닌 상태이다. 이를 통해 자료를 추가하고 빼는 데에는 Array 되어있는 데이터들을 재배치 해야 하는지에 대한 여부가 소요시간에 큰 영향을 끼친다는 것을 알 수 있다. \n",
    "\n",
    "(컴퓨터 성능의 문제인지 백만, 십억 단위 수는 자료를 넣는 시간이 끝이 안보여서 크기를 대폭 축소하였습니다.)"
   ]
  }
 ],
 "metadata": {
  "interpreter": {
   "hash": "cef9e06bb236b2a8629b07e87a04b187b952a0f661eff5533360a155783f0c33"
  },
  "kernelspec": {
   "display_name": "Python 3.8.8 64-bit ('base': conda)",
   "name": "python3"
  },
  "language_info": {
   "codemirror_mode": {
    "name": "ipython",
    "version": 3
   },
   "file_extension": ".py",
   "mimetype": "text/x-python",
   "name": "python",
   "nbconvert_exporter": "python",
   "pygments_lexer": "ipython3",
   "version": "3.8.8"
  },
  "orig_nbformat": 4
 },
 "nbformat": 4,
 "nbformat_minor": 2
}
